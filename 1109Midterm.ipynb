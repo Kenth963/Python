{
  "nbformat": 4,
  "nbformat_minor": 0,
  "metadata": {
    "colab": {
      "provenance": [],
      "authorship_tag": "ABX9TyM+DsTWDodkyCfL6XTlc2Xz",
      "include_colab_link": true
    },
    "kernelspec": {
      "name": "python3",
      "display_name": "Python 3"
    },
    "language_info": {
      "name": "python"
    }
  },
  "cells": [
    {
      "cell_type": "markdown",
      "metadata": {
        "id": "view-in-github",
        "colab_type": "text"
      },
      "source": [
        "<a href=\"https://colab.research.google.com/github/Kenth963/Python/blob/main/1109Midterm.ipynb\" target=\"_parent\"><img src=\"https://colab.research.google.com/assets/colab-badge.svg\" alt=\"Open In Colab\"/></a>"
      ]
    },
    {
      "cell_type": "markdown",
      "source": [
        "Exercise 1"
      ],
      "metadata": {
        "id": "Iz0YclmfyeVR"
      }
    },
    {
      "cell_type": "markdown",
      "source": [
        "f(n) = 1+2+3+....+(n-1)+n\n",
        "\n",
        "\n",
        "input: n\n",
        "output: f(n) \n",
        "    print(f(10))\n",
        "  \n",
        "1.write a recursive function for f(n)\n",
        "\n",
        "2.write a iterative function for f(n)"
      ],
      "metadata": {
        "id": "X-onQOFgxRng"
      }
    },
    {
      "cell_type": "code",
      "execution_count": null,
      "metadata": {
        "id": "6ExVgK2mxNdN"
      },
      "outputs": [],
      "source": [
        "def recur_fibo(n):\n",
        "   if n <= 1:\n",
        "       return n\n",
        "   else:\n",
        "       return(recur_fibo(n-1) + recur_fibo(n-2))\n",
        "\n",
        "nterms = 10\n",
        "\n",
        "# check if the number of terms is valid\n",
        "if nterms <= 0:\n",
        "   print(\"Plese enter a positive integer\")\n",
        "else:\n",
        "   print(\"Fibonacci sequence:\")\n",
        "   for i in range(nterms):\n",
        "       print(recur_fibo(i))"
      ]
    },
    {
      "cell_type": "code",
      "source": [
        "def fibonacci(n):\n",
        "    a,b = 0,1\n",
        "    for i in range(n):\n",
        "        a,b = b,a+b\n",
        "    return a\n",
        "\n",
        "print(fibonacci(10))"
      ],
      "metadata": {
        "colab": {
          "base_uri": "https://localhost:8080/"
        },
        "id": "5uXTASPlxoyY",
        "outputId": "83ae0c7c-1c93-47d8-d28c-f5eb11a24b12"
      },
      "execution_count": 1,
      "outputs": [
        {
          "output_type": "stream",
          "name": "stdout",
          "text": [
            "55\n"
          ]
        }
      ]
    },
    {
      "cell_type": "markdown",
      "source": [
        "Exercise 2"
      ],
      "metadata": {
        "id": "sy_G_5a_yhVw"
      }
    },
    {
      "cell_type": "markdown",
      "source": [
        "f(n) = n!\n",
        "     = 1*2*3*.....*n\n",
        "\n",
        "input: n\n",
        "\n",
        "output: f(n) \n",
        "\n",
        "    print(f(10))\n",
        "  \n",
        "1.write a recursive function for f(n)\n",
        "\n",
        "2.write a iterative function for f(n)"
      ],
      "metadata": {
        "id": "dfR4y41rylvB"
      }
    },
    {
      "cell_type": "code",
      "source": [],
      "metadata": {
        "id": "GXb0AmK5yi14"
      },
      "execution_count": null,
      "outputs": []
    },
    {
      "cell_type": "code",
      "source": [],
      "metadata": {
        "id": "R3WiZWOa2dbh"
      },
      "execution_count": null,
      "outputs": []
    },
    {
      "cell_type": "markdown",
      "source": [
        "Exercise 3"
      ],
      "metadata": {
        "id": "k-r-QArfzquE"
      }
    },
    {
      "cell_type": "markdown",
      "source": [
        "GCD:Greatest common divisor - Wikipedia \n",
        "\n",
        "gcd(8,12)=4\n",
        "https://en.wikipedia.org/wiki/Greatest_common_divisor\n",
        "\n",
        "Euclidean algorithm\n",
        "\n",
        "gcd(48,18)\n",
        "\n",
        "= gcd(18,48%18)\n",
        "\n",
        "= gcd(18,12\n",
        ")\n",
        "= gcd(12,18%12)\n",
        "\n",
        "= gcd(12,6)\n",
        "\n",
        "= gcd(6,12%6)\n",
        "\n",
        "= gcd(6,0)\n",
        "\n",
        "= 6\n",
        "\n",
        "output: gcd(n,m) \n",
        "\n",
        "print(gcd(48,18))\n",
        "\n",
        "gcd(18,48)  ==> gcd(48,18)  \n",
        "\n",
        "gcd(x,0) ==> return x\n",
        "\n",
        "recurrence  function : \n",
        "  \n",
        "1.write a recursive function for f(n,m)\n",
        "\n",
        "2.write a iterative function for f(n,m)"
      ],
      "metadata": {
        "id": "JApHrxH4zsJF"
      }
    },
    {
      "cell_type": "code",
      "source": [
        "def gcd(a: int, b: int, verbose: bool = False) -> int:\n",
        "    while b != 0:\n",
        "        if verbose:\n",
        "            print(f'{a=}, {b=}')\n",
        "        q = a // b\n",
        "        r = a % b\n",
        "        a = b\n",
        "        b = r\n",
        "    return a\n",
        "    \n",
        "num1, num2 = 48, 18\n",
        "print(f'gcd({num1}, {num2}, verbose=True)={gcd(num1, num2, verbose=True)}')"
      ],
      "metadata": {
        "id": "iZXNZZc2ztD7"
      },
      "execution_count": null,
      "outputs": []
    },
    {
      "cell_type": "code",
      "source": [
        "def gcd(a, b):\n",
        "   if a == 0 :\n",
        "      return b\n",
        "   return gcd(b%a, a)\n",
        "a = 48\n",
        "b = 18\n",
        "print(\"gcd of \", a , \"&\" , b, \" is = \", gcd(a, b))"
      ],
      "metadata": {
        "id": "ekiCRoPm0zs_"
      },
      "execution_count": null,
      "outputs": []
    }
  ]
}