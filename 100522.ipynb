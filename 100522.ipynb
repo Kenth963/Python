{
  "nbformat": 4,
  "nbformat_minor": 0,
  "metadata": {
    "colab": {
      "provenance": [],
      "collapsed_sections": [],
      "authorship_tag": "ABX9TyOu0b4oiYgrA1dwWOuW0beh",
      "include_colab_link": true
    },
    "kernelspec": {
      "name": "python3",
      "display_name": "Python 3"
    },
    "language_info": {
      "name": "python"
    }
  },
  "cells": [
    {
      "cell_type": "markdown",
      "metadata": {
        "id": "view-in-github",
        "colab_type": "text"
      },
      "source": [
        "<a href=\"https://colab.research.google.com/github/Kenth963/Python/blob/main/100522.ipynb\" target=\"_parent\"><img src=\"https://colab.research.google.com/assets/colab-badge.svg\" alt=\"Open In Colab\"/></a>"
      ]
    },
    {
      "cell_type": "code",
      "source": [
        "print(\"4110E236 - 柯保羅\")\n",
        "a = \"Hello, 柯保羅!\"\n",
        "print(a[7])\n"
      ],
      "metadata": {
        "colab": {
          "base_uri": "https://localhost:8080/"
        },
        "id": "wgLkogikivPU",
        "outputId": "d15628d2-747a-415b-9378-a7fd1751334d"
      },
      "execution_count": 7,
      "outputs": [
        {
          "output_type": "stream",
          "name": "stdout",
          "text": [
            "4110E236 - 柯保羅\n",
            "柯\n"
          ]
        }
      ]
    },
    {
      "cell_type": "code",
      "source": [
        "for x in \"柯保羅\":\n",
        "  print(x) \n"
      ],
      "metadata": {
        "colab": {
          "base_uri": "https://localhost:8080/"
        },
        "id": "rtMI0tL1iatp",
        "outputId": "2abfde34-31de-4178-b983-60f5795d8a3f"
      },
      "execution_count": 17,
      "outputs": [
        {
          "output_type": "stream",
          "name": "stdout",
          "text": [
            "柯\n",
            "保\n",
            "羅\n"
          ]
        }
      ]
    },
    {
      "cell_type": "code",
      "source": [
        "a = \"Hello, 柯保羅!\"\n",
        "print(len(a))"
      ],
      "metadata": {
        "colab": {
          "base_uri": "https://localhost:8080/"
        },
        "id": "2WO36hz2j39o",
        "outputId": "3c4b5fb6-49da-44bd-ce8e-152f500b5c88"
      },
      "execution_count": 18,
      "outputs": [
        {
          "output_type": "stream",
          "name": "stdout",
          "text": [
            "11\n"
          ]
        }
      ]
    },
    {
      "cell_type": "code",
      "source": [
        "txt = \"我叫柯保羅很高兴认识你\"\n",
        "print(\"柯保羅\" in txt)"
      ],
      "metadata": {
        "colab": {
          "base_uri": "https://localhost:8080/"
        },
        "id": "WmDLmMtmj7Q0",
        "outputId": "c27082da-dec3-457d-c6f8-83a17386dd72"
      },
      "execution_count": 19,
      "outputs": [
        {
          "output_type": "stream",
          "name": "stdout",
          "text": [
            "True\n"
          ]
        }
      ]
    },
    {
      "cell_type": "code",
      "source": [
        "txt = \"我叫柯保羅很高兴认识你\"\n",
        "if \"柯保羅\" in txt:\n",
        "  print(\"Yes, '柯保羅' is present.\")"
      ],
      "metadata": {
        "colab": {
          "base_uri": "https://localhost:8080/"
        },
        "id": "dFY8xvZgj9wT",
        "outputId": "ecfd194d-0d96-4c13-ef94-453437965ae1"
      },
      "execution_count": 23,
      "outputs": [
        {
          "output_type": "stream",
          "name": "stdout",
          "text": [
            "Yes, '柯保羅' is present.\n"
          ]
        }
      ]
    }
  ]
}