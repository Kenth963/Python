{
  "nbformat": 4,
  "nbformat_minor": 0,
  "metadata": {
    "colab": {
      "provenance": [],
      "collapsed_sections": [],
      "authorship_tag": "ABX9TyOxUoIiqDBmc88JwfIqqz8u",
      "include_colab_link": true
    },
    "kernelspec": {
      "name": "python3",
      "display_name": "Python 3"
    },
    "language_info": {
      "name": "python"
    }
  },
  "cells": [
    {
      "cell_type": "markdown",
      "metadata": {
        "id": "view-in-github",
        "colab_type": "text"
      },
      "source": [
        "<a href=\"https://colab.research.google.com/github/Kenth963/Python/blob/main/100522.ipynb\" target=\"_parent\"><img src=\"https://colab.research.google.com/assets/colab-badge.svg\" alt=\"Open In Colab\"/></a>"
      ]
    },
    {
      "cell_type": "markdown",
      "source": [
        "* Strings in Python are arrays of bytes representing unicode characters.\n",
        "\n",
        "* Strings are Arrays ==> access the element of arrays\n",
        "\n",
        "* Python does not have a character data type, a single character is simply a string with a length of 1"
      ],
      "metadata": {
        "id": "f26jJuF9zDWa"
      }
    },
    {
      "cell_type": "code",
      "source": [
        "print(\"4110E236 - 柯保羅\")\n",
        "a = \"Hello, 柯保羅!\"\n",
        "print(a[7])\n"
      ],
      "metadata": {
        "colab": {
          "base_uri": "https://localhost:8080/"
        },
        "id": "wgLkogikivPU",
        "outputId": "d15628d2-747a-415b-9378-a7fd1751334d"
      },
      "execution_count": 7,
      "outputs": [
        {
          "output_type": "stream",
          "name": "stdout",
          "text": [
            "4110E236 - 柯保羅\n",
            "柯\n"
          ]
        }
      ]
    },
    {
      "cell_type": "markdown",
      "source": [
        "* Looping Through a String"
      ],
      "metadata": {
        "id": "-lRtJb8Sy_j7"
      }
    },
    {
      "cell_type": "code",
      "source": [
        "for x in \"柯保羅\":\n",
        "  print(x) \n"
      ],
      "metadata": {
        "colab": {
          "base_uri": "https://localhost:8080/"
        },
        "id": "rtMI0tL1iatp",
        "outputId": "2abfde34-31de-4178-b983-60f5795d8a3f"
      },
      "execution_count": 17,
      "outputs": [
        {
          "output_type": "stream",
          "name": "stdout",
          "text": [
            "柯\n",
            "保\n",
            "羅\n"
          ]
        }
      ]
    },
    {
      "cell_type": "markdown",
      "source": [
        "* String Length:To get the length of a string, use the len()function."
      ],
      "metadata": {
        "id": "0aEeTzSpzUxN"
      }
    },
    {
      "cell_type": "code",
      "source": [
        "a = \"Hello, 柯保羅!\"\n",
        "print(len(a))"
      ],
      "metadata": {
        "colab": {
          "base_uri": "https://localhost:8080/"
        },
        "id": "2WO36hz2j39o",
        "outputId": "3c4b5fb6-49da-44bd-ce8e-152f500b5c88"
      },
      "execution_count": 18,
      "outputs": [
        {
          "output_type": "stream",
          "name": "stdout",
          "text": [
            "11\n"
          ]
        }
      ]
    },
    {
      "cell_type": "markdown",
      "source": [
        "* Check String: To check if a certain phrase or character is present in a string, we can use the keyword in.\n",
        "\n",
        "* keyword in vs if\n",
        "\n",
        "* True or False"
      ],
      "metadata": {
        "id": "vIkUxkrizbKj"
      }
    },
    {
      "cell_type": "code",
      "source": [
        "txt = \"我叫柯保羅很高兴认识你\"\n",
        "print(\"柯保羅\" in txt)"
      ],
      "metadata": {
        "colab": {
          "base_uri": "https://localhost:8080/"
        },
        "id": "WmDLmMtmj7Q0",
        "outputId": "c27082da-dec3-457d-c6f8-83a17386dd72"
      },
      "execution_count": 19,
      "outputs": [
        {
          "output_type": "stream",
          "name": "stdout",
          "text": [
            "True\n"
          ]
        }
      ]
    },
    {
      "cell_type": "code",
      "source": [
        "txt = \"我叫柯保羅很高兴认识你\"\n",
        "if \"柯保羅\" in txt:\n",
        "  print(\"Yes, '柯保羅' is present.\")"
      ],
      "metadata": {
        "colab": {
          "base_uri": "https://localhost:8080/"
        },
        "id": "dFY8xvZgj9wT",
        "outputId": "ecfd194d-0d96-4c13-ef94-453437965ae1"
      },
      "execution_count": 23,
      "outputs": [
        {
          "output_type": "stream",
          "name": "stdout",
          "text": [
            "Yes, '柯保羅' is present.\n"
          ]
        }
      ]
    },
    {
      "cell_type": "markdown",
      "source": [
        "* Negative Indexing"
      ],
      "metadata": {
        "id": "qiE-JBZGzhnz"
      }
    },
    {
      "cell_type": "code",
      "source": [
        "b = \"Hello, 柯保羅!\"\n",
        "print(b[-5:-2])"
      ],
      "metadata": {
        "colab": {
          "base_uri": "https://localhost:8080/"
        },
        "id": "3uegqKJIxIY3",
        "outputId": "f7d6ec8a-fe84-43b1-d1e6-b69106cf0c03"
      },
      "execution_count": 24,
      "outputs": [
        {
          "output_type": "stream",
          "name": "stdout",
          "text": [
            " 柯保\n"
          ]
        }
      ]
    },
    {
      "cell_type": "markdown",
      "source": [
        "* Python - Modify Strings\n",
        "\n",
        "* The upper() method returns the string in upper case:\n",
        "\n",
        "* The lower() method returns the string in lower case"
      ],
      "metadata": {
        "id": "J1yXxrz1zlSa"
      }
    },
    {
      "cell_type": "code",
      "source": [
        "b = \"Hello, 柯保羅!\"\n",
        "print(b.upper())"
      ],
      "metadata": {
        "colab": {
          "base_uri": "https://localhost:8080/"
        },
        "id": "l_bnpV3VxY3R",
        "outputId": "4684d11b-e705-4a0a-f6e1-e18d5975414b"
      },
      "execution_count": 25,
      "outputs": [
        {
          "output_type": "stream",
          "name": "stdout",
          "text": [
            "HELLO, 柯保羅!\n"
          ]
        }
      ]
    },
    {
      "cell_type": "markdown",
      "source": [
        "* Remove Whitespace with strip() method\n",
        "\n",
        "* The strip() method removes any whitespace from the beginning or the end"
      ],
      "metadata": {
        "id": "QVBfzMh4zqnb"
      }
    },
    {
      "cell_type": "code",
      "source": [
        "b = \" Hello, 柯保羅! \"\n",
        "print(b.strip())"
      ],
      "metadata": {
        "colab": {
          "base_uri": "https://localhost:8080/"
        },
        "id": "8eWAssQOxvUv",
        "outputId": "b6c14c08-b37b-461d-b52e-3bc7589ca8f2"
      },
      "execution_count": 26,
      "outputs": [
        {
          "output_type": "stream",
          "name": "stdout",
          "text": [
            "Hello, 柯保羅!\n"
          ]
        }
      ]
    },
    {
      "cell_type": "markdown",
      "source": [
        "* The replace()method replaces a string with another string\n",
        "\n",
        "* seperator"
      ],
      "metadata": {
        "id": "ZsjcltwwzyED"
      }
    },
    {
      "cell_type": "code",
      "source": [
        "b = \"Hello, 柯保羅 - Kenneth Beniga!\"\n",
        "print(b.replace(\"e\", \"s\"))"
      ],
      "metadata": {
        "colab": {
          "base_uri": "https://localhost:8080/"
        },
        "id": "0IbASIKjx2xY",
        "outputId": "69cb9233-52af-4db6-c9c9-ad74f64fe716"
      },
      "execution_count": 27,
      "outputs": [
        {
          "output_type": "stream",
          "name": "stdout",
          "text": [
            "Hsllo, 柯保羅 - Ksnnsth Bsniga!\n"
          ]
        }
      ]
    },
    {
      "cell_type": "code",
      "source": [
        "b = \"Hello, 柯保羅!\"\n",
        "print(b.split(\",\"))"
      ],
      "metadata": {
        "colab": {
          "base_uri": "https://localhost:8080/"
        },
        "id": "EnwkdSDxyH0P",
        "outputId": "7a1e03aa-e353-4a86-8ab0-bfca6af33b91"
      },
      "execution_count": 28,
      "outputs": [
        {
          "output_type": "stream",
          "name": "stdout",
          "text": [
            "['Hello', ' 柯保羅!']\n"
          ]
        }
      ]
    },
    {
      "cell_type": "markdown",
      "source": [
        "* String Concatenation:To concatenate, or combine, two strings you can use the + operator."
      ],
      "metadata": {
        "id": "Z4CNLK4sz3UD"
      }
    },
    {
      "cell_type": "code",
      "source": [
        "a = \"Hello\"\n",
        "b = \", \"\n",
        "c = \"柯保羅!\"\n",
        "d = a + b + c\n",
        "print(d)"
      ],
      "metadata": {
        "colab": {
          "base_uri": "https://localhost:8080/"
        },
        "id": "NfdQW_qhyOHr",
        "outputId": "4410a2bb-1fd1-4b15-ccae-c70881f7b426"
      },
      "execution_count": 31,
      "outputs": [
        {
          "output_type": "stream",
          "name": "stdout",
          "text": [
            "Hello, 柯保羅!\n"
          ]
        }
      ]
    },
    {
      "cell_type": "markdown",
      "source": [
        "* Python - Format - Strings"
      ],
      "metadata": {
        "id": "0oP_f6S2z9l8"
      }
    },
    {
      "cell_type": "code",
      "source": [
        "age = 20\n",
        "txt = \"My name is 柯保羅, and I am {} years old.\"\n",
        "print(txt.format(age))"
      ],
      "metadata": {
        "colab": {
          "base_uri": "https://localhost:8080/"
        },
        "id": "ma6Wvor1yWFB",
        "outputId": "de2d29d1-d896-4382-ad51-25a9c7c7537c"
      },
      "execution_count": 33,
      "outputs": [
        {
          "output_type": "stream",
          "name": "stdout",
          "text": [
            "My name is 柯保羅, and I am 20 years old.\n"
          ]
        }
      ]
    },
    {
      "cell_type": "code",
      "source": [
        "quantity = 3\n",
        "itemno = 567\n",
        "price = 49.95\n",
        "myorder = \"I want {0} pieces of item {1} for {2} dollars.\"\n",
        "print(myorder.format(quantity, itemno, price))"
      ],
      "metadata": {
        "colab": {
          "base_uri": "https://localhost:8080/"
        },
        "id": "g0yFiJlvyplK",
        "outputId": "57a1ef01-f5fe-425d-f138-560728c25e02"
      },
      "execution_count": 34,
      "outputs": [
        {
          "output_type": "stream",
          "name": "stdout",
          "text": [
            "I want 3 pieces of item 567 for 49.95 dollars.\n"
          ]
        }
      ]
    },
    {
      "cell_type": "markdown",
      "source": [
        "* String Methods"
      ],
      "metadata": {
        "id": "SZZuIDZt0A3m"
      }
    },
    {
      "cell_type": "code",
      "source": [
        "txt = \"hello, and welcome to my world.\"\n",
        "\n",
        "x = txt.capitalize()\n",
        "\n",
        "print (x)"
      ],
      "metadata": {
        "colab": {
          "base_uri": "https://localhost:8080/"
        },
        "id": "fvTj3JlnywFh",
        "outputId": "807a0b68-e0b0-4de2-b431-21556848fa8c"
      },
      "execution_count": 35,
      "outputs": [
        {
          "output_type": "stream",
          "name": "stdout",
          "text": [
            "Hello, and welcome to my world.\n"
          ]
        }
      ]
    }
  ]
}